{
  "nbformat": 4,
  "nbformat_minor": 0,
  "metadata": {
    "colab": {
      "provenance": []
    },
    "kernelspec": {
      "name": "python3",
      "display_name": "Python 3"
    },
    "language_info": {
      "name": "python"
    }
  },
  "cells": [
    {
      "cell_type": "markdown",
      "source": [
        "1. Build a simple webpage that displays text as shown in the below image."
      ],
      "metadata": {
        "id": "pje8-BDIzEqw"
      }
    },
    {
      "cell_type": "code",
      "source": [
        "<!DOCTYPE html>\n",
        "<html lang=\"en\">\n",
        "<head>\n",
        "    <meta charset=\"UTF-8\">\n",
        "    <meta name=\"viewport\" content=\"width=device-width, initial-scale=1.0\">\n",
        "    <title>Text</title>\n",
        "</head>\n",
        "<body>\n",
        "    <b>This text Will be Bold</b><br>\n",
        "    <ins>This text Will be Underline</ins><br>\n",
        "    <mark>This text Will be Highlighted</mark><br>\n",
        "    This is a normal text<sup> This will Be Super scripted</sup>This is again normal<br>\n",
        "    This is a normal text<sub> This will Be Subscripted</sub>This is again normal<br>\n",
        "    <small>Normal Text small text</small><br>\n",
        "    <span>This text will be deleted</span>\n",
        "</body>\n",
        "</html>"
      ],
      "metadata": {
        "id": "oK5hfIotzv5P"
      },
      "execution_count": null,
      "outputs": []
    },
    {
      "cell_type": "markdown",
      "source": [
        "2.Build a simple webpage that helps users navigate different web development-related websites. Note: On clicking the hyperlink the web pages should open in a new tab. Below is a reference image."
      ],
      "metadata": {
        "id": "jaxvb6tX39Fs"
      }
    },
    {
      "cell_type": "code",
      "source": [
        "<!DOCTYPE html>\n",
        "<html lang=\"en\">\n",
        "<head>\n",
        "    <meta charset=\"UTF-8\">\n",
        "    <meta name=\"viewport\" content=\"width=device-width, initial-scale=1.0\">\n",
        "    <title>Hyperlink</title>\n",
        "</head>\n",
        "<body>\n",
        "    <a href=\"https://pwskills.com/\">Take to me Pw Skill</a><br>\n",
        "    <a href=\"https://pwskills.com/online-degree/?source=pwskills.com&position=nav_bar&buttonText=online_degree&page_ref=home_page\">Take me To MDN DOC</a><br>\n",
        "    <a href=\"https://pwskills.com/learn/\">Take me to PW Skill Lab</a>\n",
        "</body>\n",
        "</html>"
      ],
      "metadata": {
        "id": "DF86A5_76-Vq"
      },
      "execution_count": null,
      "outputs": []
    },
    {
      "cell_type": "markdown",
      "source": [
        "3. Build a simple blog web page with 3 pages home, web development, and web design. Each page must contain hyperlinks to other pages in the top, a heading of the page topic and a paragraph of information.For the home page you can add some information about yourself%"
      ],
      "metadata": {
        "id": "r7e-GTR47Afb"
      }
    },
    {
      "cell_type": "code",
      "source": [
        "<!DOCTYPE html>\n",
        "<html>\n",
        "<head>\n",
        "  <title>My Blog - Home</title>\n",
        "</head>\n",
        "<body>\n",
        "  <!-- Navigation -->\n",
        "  <nav>\n",
        "    <a href=\"index.html\">Home</a> |\n",
        "    <a href=\"web-development.html\">Web Development</a> |\n",
        "    <a href=\"web-design.html\">Web Design</a>\n",
        "  </nav>\n",
        "\n",
        "  <!-- Content -->\n",
        "  <h1>Welcome to My Blog</h1>\n",
        "  <p>Hi! I'm a passionate web developer and designer who loves building modern, user-friendly websites. On this blog, I share tips, tutorials, and thoughts on web development and design.</p>\n",
        "</body>\n",
        "</html>\n"
      ],
      "metadata": {
        "id": "3R3nbXJs7tYy"
      },
      "execution_count": null,
      "outputs": []
    },
    {
      "cell_type": "markdown",
      "source": [
        "4. Create an ordered list of HTML tags. Each list item must include the tag name and some information about the tag%"
      ],
      "metadata": {
        "id": "yCGWWfKs71Zl"
      }
    },
    {
      "cell_type": "code",
      "source": [
        "<!DOCTYPE html>\n",
        "<html>\n",
        "<head>\n",
        "  <title>Basic HTML Tags</title>\n",
        "</head>\n",
        "<body>\n",
        "\n",
        "  <h1>Basic HTML Tags</h1>\n",
        "\n",
        "  <ol>\n",
        "    <li>\n",
        "      <strong>&lt;html&gt;</strong> - The main container for all HTML content.\n",
        "    </li>\n",
        "    <li>\n",
        "      <strong>&lt;head&gt;</strong> - Contains page metadata like the title and links to stylesheets.\n",
        "    </li>\n",
        "    <li>\n",
        "      <strong>&lt;body&gt;</strong> - Holds all the visible content on the page.\n",
        "    </li>\n",
        "    <li>\n",
        "      <strong>&lt;h1&gt;</strong> - Defines the largest heading on the page.\n",
        "    </li>\n",
        "    <li>\n",
        "      <strong>&lt;p&gt;</strong> - Used to create paragraphs of text.\n",
        "    </li>\n",
        "  </ol>\n",
        "\n",
        "</body>\n",
        "</html>\n"
      ],
      "metadata": {
        "id": "XK3koCIY8Wp1"
      },
      "execution_count": null,
      "outputs": []
    },
    {
      "cell_type": "markdown",
      "source": [
        "5. Create a description list of full stack web development tech stack, using the <dl> tag. Each term should be a tech stack name and each description should be a brief explanation of what the tech stack is used for."
      ],
      "metadata": {
        "id": "WFE--9Z58Y19"
      }
    },
    {
      "cell_type": "code",
      "source": [
        "<!DOCTYPE html>\n",
        "<html>\n",
        "<head>\n",
        "  <title>Full Stack Web Development Tech Stack</title>\n",
        "</head>\n",
        "<body>\n",
        "\n",
        "  <h1>Full Stack Web Development Tech Stack</h1>\n",
        "\n",
        "  <dl>\n",
        "    <dt>HTML</dt>\n",
        "    <dd>The standard markup language used to create the structure of web pages.</dd>\n",
        "\n",
        "    <dt>CSS</dt>\n",
        "    <dd>Used for styling HTML elements to create visually appealing web pages.</dd>\n",
        "\n",
        "    <dt>JavaScript</dt>\n",
        "    <dd>A scripting language that adds interactivity and dynamic behavior to web pages.</dd>\n",
        "\n",
        "    <dt>React</dt>\n",
        "    <dd>A JavaScript library for building user interfaces, especially single-page applications.</dd>\n",
        "\n",
        "    <dt>Node.js</dt>\n",
        "    <dd>A runtime environment that allows JavaScript to be used on the server side.</dd>\n",
        "\n",
        "    <dt>Express.js</dt>\n",
        "    <dd>A minimal and flexible Node.js web framework for building APIs and backend services.</dd>\n",
        "\n",
        "    <dt>MongoDB</dt>\n",
        "    <dd>A NoSQL database used to store data in JSON-like documents.</dd>\n",
        "\n",
        "    <dt>Git</dt>\n",
        "    <dd>A version control system used to track changes in code and collaborate with others.</dd>\n",
        "\n",
        "    <dt>GitHub</dt>\n",
        "    <dd>A platform for hosting and managing Git repositories, commonly used for collaboration.</dd>\n",
        "  </dl>\n",
        "\n",
        "</body>\n",
        "</html>\n"
      ],
      "metadata": {
        "id": "nKGwLzLe87vK"
      },
      "execution_count": null,
      "outputs": []
    },
    {
      "cell_type": "markdown",
      "source": [
        "6. Create an ordered list of the full stack web development tech stack HTML, CSS, and JS. For each tech stack, create a table that lists the tech stack name, its primary use cases, and some key features or benefits. Below is a reference image."
      ],
      "metadata": {
        "id": "21KoXHAc8_MA"
      }
    },
    {
      "cell_type": "code",
      "source": [
        "<!DOCTYPE html>\n",
        "<html lang=\"en\">\n",
        "<head>\n",
        "    <meta charset=\"UTF-8\">\n",
        "    <meta name=\"viewport\" content=\"width=device-width, initial-scale=1.0\">\n",
        "    <title>Ordered List</title>\n",
        "</head>\n",
        "<body>\n",
        "    <ol>\n",
        "        <li><h1>HTML</h1></li>\n",
        "       <table border=\"1\">\n",
        "        <tr>\n",
        "            <th> Primary Use cases</th>\n",
        "            <th>Benifits</th>\n",
        "        </tr>\n",
        "        <tr>\n",
        "            <td>Easy to learn</td>\n",
        "            <td>Forms and input</td>\n",
        "        </tr>\n",
        "       </table>\n",
        "       <li><h2>CSS</h2></li>\n",
        "       <table border=\"1\">\n",
        "        <tr>\n",
        "            <th> Primary Use cases</th>\n",
        "            <th>Benifits</th>\n",
        "        </tr>\n",
        "        <tr>\n",
        "            <td>Responsive design</td>\n",
        "            <td>Animations and transitionst</td>\n",
        "        </tr>\n",
        "       </table>\n",
        "       <li><h1>JS</h1></li>\n",
        "        <table border=\"1\">\n",
        "            <tr>\n",
        "                <th> Primary Use cases</th>\n",
        "                <th>Benifits</th>\n",
        "            </tr>\n",
        "            <tr>\n",
        "            <td>Event handling</td>\n",
        "            <td>Works on both frontend and backend</td>\n",
        "\n",
        "            </tr>\n",
        "        </table>\n",
        "\n",
        "    </ol>\n",
        "</body>\n",
        "</html>\n",
        "\n",
        "\n",
        "\n",
        "\n",
        "\n"
      ],
      "metadata": {
        "id": "kpB4jEmmBznj"
      },
      "execution_count": null,
      "outputs": []
    },
    {
      "cell_type": "markdown",
      "source": [
        "7. Build a complex nested list structure representing a multi-level table of contents. Use unordered lists(<ul>) and list items (<li>) with inline-block styling to create a structured layout. Apply formatting tags to enhance the presentation of list items."
      ],
      "metadata": {
        "id": "_Oe8SZwCVegd"
      }
    },
    {
      "cell_type": "code",
      "source": [
        "<!DOCTYPE html>\n",
        "<html lang=\"en\">\n",
        "<head>\n",
        "  <meta charset=\"UTF-8\">\n",
        "  <title>Multi-level Table of Contents</title>\n",
        "  <style>\n",
        "    ul {\n",
        "      list-style-type: none;\n",
        "      padding-left: 20px;\n",
        "    }\n",
        "\n",
        "    li {\n",
        "      display: inline-block;\n",
        "      width: 100%;\n",
        "      margin: 5px 0;\n",
        "    }\n",
        "\n",
        "    .level-1 > li {\n",
        "      font-size: 1.2em;\n",
        "      font-weight: bold;\n",
        "      color: #2c3e50;\n",
        "    }\n",
        "\n",
        "    .level-2 > li {\n",
        "      font-size: 1.1em;\n",
        "      font-style: italic;\n",
        "      color: #34495e;\n",
        "    }\n",
        "\n",
        "    .level-3 > li {\n",
        "      font-size: 1em;\n",
        "      color: #555;\n",
        "    }\n",
        "\n",
        "    .level-4 > li {\n",
        "      font-size: 0.95em;\n",
        "      color: #777;\n",
        "    }\n",
        "  </style>\n",
        "</head>\n",
        "<body>\n",
        "\n",
        "<h1>Table of Contents</h1>\n",
        "\n",
        "<ul class=\"level-1\">\n",
        "  <li>📘 <strong>Chapter 1: Introduction</strong>\n",
        "    <ul class=\"level-2\">\n",
        "      <li><em>1.1 Overview</em></li>\n",
        "      <li><em>1.2 Purpose and Scope</em></li>\n",
        "      <li><em>1.3 Terminology</em></li>\n",
        "    </ul>\n",
        "  </li>\n",
        "  <li>📙 <strong>Chapter 2: Background</strong>\n",
        "    <ul class=\"level-2\">\n",
        "      <li><em>2.1 Historical Context</em></li>\n",
        "      <li><em>2.2 Current Trends</em>\n",
        "        <ul class=\"level-3\">\n",
        "          <li>2.2.1 Technology Advancements</li>\n",
        "          <li>2.2.2 Industry Impact</li>\n",
        "          <li>2.2.3 Case Studies\n",
        "            <ul class=\"level-4\">\n",
        "              <li><small>Case Study A</small></li>\n",
        "              <li><small>Case Study B</small></li>\n",
        "            </ul>\n",
        "          </li>\n",
        "        </ul>\n",
        "      </li>\n",
        "    </ul>\n",
        "  </li>\n",
        "  <li>📗 <strong>Chapter 3: Methodology</strong>\n",
        "    <ul class=\"level-2\">\n",
        "      <li><em>3.1 Research Design</em></li>\n",
        "      <li><em>3.2 Data Collection</em>\n",
        "        <ul class=\"level-3\">\n",
        "          <li>3.2.1 Surveys</li>\n",
        "          <li>3.2.2 Interviews</li>\n",
        "        </ul>\n",
        "      </li>\n",
        "      <li><em>3.3 Data Analysis</em></li>\n",
        "    </ul>\n",
        "  </li>\n",
        "  <li>📕 <strong>Chapter 4: Results & Discussion</strong>\n",
        "    <ul class=\"level-2\">\n",
        "      <li><em>4.1 Key Findings</em></li>\n",
        "      <li><em>4.2 Interpretation</em></li>\n",
        "      <li><em>4.3 Implications</em></li>\n",
        "    </ul>\n",
        "  </li>\n",
        "  <li>📓 <strong>Chapter 5: Conclusion</strong>\n",
        "    <ul class=\"level-2\">\n",
        "      <li><em>5.1 Summary</em></li>\n",
        "      <li><em>5.2 Recommendations</em></li>\n",
        "      <li><em>5.3 Future Work</em></li>\n",
        "    </ul>\n",
        "  </li>\n",
        "</ul>\n",
        "\n",
        "</body>\n",
        "</html>\n"
      ],
      "metadata": {
        "id": "mSBPFwVoWzJ-"
      },
      "execution_count": null,
      "outputs": []
    },
    {
      "cell_type": "markdown",
      "source": [
        "8. Create a table to display a conference schedule. Each row corresponds to a time slot, and each column corresponds to a room. Some time slots might have multiple sessions running simultaneously in different rooms. Utilize rowspan and colspan attributes as necessary to accommodate this complex schedule.\n",
        "(use table attribute “cellpadding”  to give extra padding in each table cell )."
      ],
      "metadata": {
        "id": "xE4TugjPW0iy"
      }
    },
    {
      "cell_type": "code",
      "source": [
        "<!DOCTYPE html>\n",
        "<html lang=\"en\">\n",
        "<head>\n",
        "    <meta charset=\"UTF-8\">\n",
        "    <meta name=\"viewport\" content=\"width=device-width, initial-scale=1.0\">\n",
        "    <title>Time table</title>\n",
        "</head>\n",
        "<body>\n",
        "    <table border=\"1\">\n",
        "        <tr>\n",
        "            <th>Time</th>\n",
        "            <th>Room1</th>\n",
        "            <th>Room2</th>\n",
        "            <th>Room3</th>\n",
        "            <th>Room4</th>\n",
        "        </tr>\n",
        "        <tr>\n",
        "            <td rowspan=\"3\">9:00 Am to 10:00 Am</td>\n",
        "            <td rowspan=\"2\">Keynote</td>\n",
        "            <td>Session A</td>\n",
        "            <td>Session B</td>\n",
        "            <td rowspan=\"3\">Session C</td>\n",
        "        </tr>\n",
        "        <tr>\n",
        "\n",
        "            <td>Session D</td>\n",
        "            <td>Session E</td>\n",
        "        </tr>\n",
        "        <tr>\n",
        "            <td>10:30 Am to 11:30 Am</td>\n",
        "            <td colspan=\"2\">Session F</td>\n",
        "        </tr>\n",
        "        <tr>\n",
        "            <td>12:00 Pm to 1:00 Pm</td>\n",
        "            <td colspan=\"4\">Lunch Break</td>\n",
        "        </tr>\n",
        "        <tr>\n",
        "            <td rowspan=\"2\">1:00 Pm to 2:00 Pm</td>\n",
        "            <td>Session G</td>\n",
        "            <td rowspan=\"2\">Session H</td>\n",
        "            <td> Session I</td>\n",
        "            <td>Session J</td>\n",
        "        </tr>\n",
        "        <tr>\n",
        "            <td>Session K</td>\n",
        "            <td>Session L</td>\n",
        "            <td>Session M</td>\n",
        "        </tr>\n",
        "    </table>\n",
        "\n",
        "</body>\n",
        "</html>"
      ],
      "metadata": {
        "id": "op7FgVWmcTM2"
      },
      "execution_count": null,
      "outputs": []
    }
  ]
}